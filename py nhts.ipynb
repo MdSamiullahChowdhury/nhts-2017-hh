{
 "cells": [
  {
   "cell_type": "code",
   "execution_count": 1,
   "id": "f715176b",
   "metadata": {},
   "outputs": [],
   "source": [
    "import pandas as pd\n",
    "import matplotlib.pyplot as plt\n",
    "import numpy as np"
   ]
  },
  {
   "cell_type": "code",
   "execution_count": 4,
   "id": "953b8742",
   "metadata": {},
   "outputs": [],
   "source": [
    "p= r\"G:\\project\\NHTS Data 2017 Household repo folder\\nhts-2017-hh\\hhpub.csv\"\n",
    "df=pd.read_csv(p)"
   ]
  },
  {
   "cell_type": "code",
   "execution_count": 5,
   "id": "976542b2",
   "metadata": {},
   "outputs": [],
   "source": [
    "per= r\"G:\\project\\NHTS Data 2017 Household repo folder\\nhts-2017-hh\\perpub.csv\"\n",
    "df_per=pd.read_csv(per)"
   ]
  },
  {
   "cell_type": "code",
   "execution_count": 6,
   "id": "533cdc90",
   "metadata": {},
   "outputs": [],
   "source": [
    "df_PLACE= df[(df['PLACE'] == 1) | (df['PLACE'] == 2)] \n",
    "df_PLACE_D= df[(df['PLACE'] == 4) | (df['PLACE'] == 5)] \n",
    "df_PLACE_ALL= (df[(df['PLACE'] == 4) | (df['PLACE'] == 5) | (df['PLACE'] == 1) | (df['PLACE'] == 2)] )"
   ]
  },
  {
   "cell_type": "code",
   "execution_count": 5,
   "id": "bc1c6c93",
   "metadata": {},
   "outputs": [],
   "source": [
    "df_merge=pd.merge(df,df_per, how='inner')"
   ]
  },
  {
   "cell_type": "code",
   "execution_count": 6,
   "id": "7f1a2a47",
   "metadata": {},
   "outputs": [
    {
     "data": {
      "text/html": [
       "<div>\n",
       "<style scoped>\n",
       "    .dataframe tbody tr th:only-of-type {\n",
       "        vertical-align: middle;\n",
       "    }\n",
       "\n",
       "    .dataframe tbody tr th {\n",
       "        vertical-align: top;\n",
       "    }\n",
       "\n",
       "    .dataframe thead th {\n",
       "        text-align: right;\n",
       "    }\n",
       "</style>\n",
       "<table border=\"1\" class=\"dataframe\">\n",
       "  <thead>\n",
       "    <tr style=\"text-align: right;\">\n",
       "      <th></th>\n",
       "      <th>HOUSEID</th>\n",
       "      <th>TRAVDAY</th>\n",
       "      <th>SAMPSTRAT</th>\n",
       "      <th>HOMEOWN</th>\n",
       "      <th>HHSIZE</th>\n",
       "      <th>HHVEHCNT</th>\n",
       "      <th>HHFAMINC</th>\n",
       "      <th>PC</th>\n",
       "      <th>SPHONE</th>\n",
       "      <th>TAB</th>\n",
       "      <th>...</th>\n",
       "      <th>BIKE_DFR</th>\n",
       "      <th>BIKE_GKP</th>\n",
       "      <th>CONDTRAV</th>\n",
       "      <th>CONDRIDE</th>\n",
       "      <th>CONDNIGH</th>\n",
       "      <th>CONDRIVE</th>\n",
       "      <th>CONDPUB</th>\n",
       "      <th>CONDSPEC</th>\n",
       "      <th>CONDTAX</th>\n",
       "      <th>WTPERFIN</th>\n",
       "    </tr>\n",
       "  </thead>\n",
       "  <tbody>\n",
       "    <tr>\n",
       "      <th>0</th>\n",
       "      <td>30000007</td>\n",
       "      <td>2</td>\n",
       "      <td>3</td>\n",
       "      <td>1</td>\n",
       "      <td>3</td>\n",
       "      <td>5</td>\n",
       "      <td>7</td>\n",
       "      <td>2</td>\n",
       "      <td>1</td>\n",
       "      <td>2</td>\n",
       "      <td>...</td>\n",
       "      <td>-1</td>\n",
       "      <td>-1</td>\n",
       "      <td>-1</td>\n",
       "      <td>-1</td>\n",
       "      <td>-1</td>\n",
       "      <td>-1</td>\n",
       "      <td>-1</td>\n",
       "      <td>-1</td>\n",
       "      <td>-1</td>\n",
       "      <td>206.690153</td>\n",
       "    </tr>\n",
       "    <tr>\n",
       "      <th>1</th>\n",
       "      <td>30000007</td>\n",
       "      <td>2</td>\n",
       "      <td>3</td>\n",
       "      <td>1</td>\n",
       "      <td>3</td>\n",
       "      <td>5</td>\n",
       "      <td>7</td>\n",
       "      <td>2</td>\n",
       "      <td>1</td>\n",
       "      <td>2</td>\n",
       "      <td>...</td>\n",
       "      <td>-1</td>\n",
       "      <td>-1</td>\n",
       "      <td>-1</td>\n",
       "      <td>-1</td>\n",
       "      <td>-1</td>\n",
       "      <td>-1</td>\n",
       "      <td>-1</td>\n",
       "      <td>-1</td>\n",
       "      <td>-1</td>\n",
       "      <td>197.075742</td>\n",
       "    </tr>\n",
       "    <tr>\n",
       "      <th>2</th>\n",
       "      <td>30000007</td>\n",
       "      <td>2</td>\n",
       "      <td>3</td>\n",
       "      <td>1</td>\n",
       "      <td>3</td>\n",
       "      <td>5</td>\n",
       "      <td>7</td>\n",
       "      <td>2</td>\n",
       "      <td>1</td>\n",
       "      <td>2</td>\n",
       "      <td>...</td>\n",
       "      <td>-1</td>\n",
       "      <td>-1</td>\n",
       "      <td>-1</td>\n",
       "      <td>-1</td>\n",
       "      <td>-1</td>\n",
       "      <td>-1</td>\n",
       "      <td>-1</td>\n",
       "      <td>-1</td>\n",
       "      <td>-1</td>\n",
       "      <td>219.514210</td>\n",
       "    </tr>\n",
       "    <tr>\n",
       "      <th>3</th>\n",
       "      <td>30000008</td>\n",
       "      <td>5</td>\n",
       "      <td>2</td>\n",
       "      <td>1</td>\n",
       "      <td>2</td>\n",
       "      <td>4</td>\n",
       "      <td>8</td>\n",
       "      <td>1</td>\n",
       "      <td>1</td>\n",
       "      <td>2</td>\n",
       "      <td>...</td>\n",
       "      <td>-1</td>\n",
       "      <td>-1</td>\n",
       "      <td>-1</td>\n",
       "      <td>-1</td>\n",
       "      <td>-1</td>\n",
       "      <td>-1</td>\n",
       "      <td>-1</td>\n",
       "      <td>-1</td>\n",
       "      <td>-1</td>\n",
       "      <td>63.185911</td>\n",
       "    </tr>\n",
       "    <tr>\n",
       "      <th>4</th>\n",
       "      <td>30000008</td>\n",
       "      <td>5</td>\n",
       "      <td>2</td>\n",
       "      <td>1</td>\n",
       "      <td>2</td>\n",
       "      <td>4</td>\n",
       "      <td>8</td>\n",
       "      <td>1</td>\n",
       "      <td>1</td>\n",
       "      <td>2</td>\n",
       "      <td>...</td>\n",
       "      <td>-1</td>\n",
       "      <td>-1</td>\n",
       "      <td>-1</td>\n",
       "      <td>-1</td>\n",
       "      <td>-1</td>\n",
       "      <td>-1</td>\n",
       "      <td>-1</td>\n",
       "      <td>-1</td>\n",
       "      <td>-1</td>\n",
       "      <td>58.665911</td>\n",
       "    </tr>\n",
       "  </tbody>\n",
       "</table>\n",
       "<p>5 rows × 144 columns</p>\n",
       "</div>"
      ],
      "text/plain": [
       "    HOUSEID  TRAVDAY  SAMPSTRAT  HOMEOWN  HHSIZE  HHVEHCNT  HHFAMINC  PC  \\\n",
       "0  30000007        2          3        1       3         5         7   2   \n",
       "1  30000007        2          3        1       3         5         7   2   \n",
       "2  30000007        2          3        1       3         5         7   2   \n",
       "3  30000008        5          2        1       2         4         8   1   \n",
       "4  30000008        5          2        1       2         4         8   1   \n",
       "\n",
       "   SPHONE  TAB  ...  BIKE_DFR  BIKE_GKP  CONDTRAV  CONDRIDE  CONDNIGH  \\\n",
       "0       1    2  ...        -1        -1        -1        -1        -1   \n",
       "1       1    2  ...        -1        -1        -1        -1        -1   \n",
       "2       1    2  ...        -1        -1        -1        -1        -1   \n",
       "3       1    2  ...        -1        -1        -1        -1        -1   \n",
       "4       1    2  ...        -1        -1        -1        -1        -1   \n",
       "\n",
       "   CONDRIVE  CONDPUB  CONDSPEC  CONDTAX    WTPERFIN  \n",
       "0        -1       -1        -1       -1  206.690153  \n",
       "1        -1       -1        -1       -1  197.075742  \n",
       "2        -1       -1        -1       -1  219.514210  \n",
       "3        -1       -1        -1       -1   63.185911  \n",
       "4        -1       -1        -1       -1   58.665911  \n",
       "\n",
       "[5 rows x 144 columns]"
      ]
     },
     "execution_count": 6,
     "metadata": {},
     "output_type": "execute_result"
    }
   ],
   "source": [
    "df_merge.head()"
   ]
  },
  {
   "cell_type": "code",
   "execution_count": 7,
   "id": "8a2897a0",
   "metadata": {},
   "outputs": [
    {
     "name": "stderr",
     "output_type": "stream",
     "text": [
      "<ipython-input-7-fe9ad10752a3>:1: UserWarning: Boolean Series key will be reindexed to match DataFrame index.\n",
      "  df_merge_PLACE= df[(df_merge['PLACE'] == 1) | (df_merge['PLACE'] == 2)]\n"
     ]
    },
    {
     "data": {
      "text/plain": [
       "49588"
      ]
     },
     "execution_count": 7,
     "metadata": {},
     "output_type": "execute_result"
    }
   ],
   "source": [
    "df_merge_PLACE= df[(df_merge['PLACE'] == 1) | (df_merge['PLACE'] == 2)] \n",
    "len(df_merge_PLACE) "
   ]
  },
  {
   "cell_type": "code",
   "execution_count": 8,
   "id": "0d2285c3",
   "metadata": {},
   "outputs": [
    {
     "name": "stderr",
     "output_type": "stream",
     "text": [
      "<ipython-input-8-ef1969beeb3d>:1: UserWarning: Boolean Series key will be reindexed to match DataFrame index.\n",
      "  df_merge_PLACE= df[(df_merge['PLACE'] == 1) | (df_merge['PLACE'] == 2)]\n",
      "<ipython-input-8-ef1969beeb3d>:2: UserWarning: Boolean Series key will be reindexed to match DataFrame index.\n",
      "  df_merge_PLACE_D= df[(df_merge['PLACE'] == 4) | (df_merge['PLACE'] == 5)]\n",
      "<ipython-input-8-ef1969beeb3d>:3: UserWarning: Boolean Series key will be reindexed to match DataFrame index.\n",
      "  df_merge_PLACE_ALL= (df[(df_merge['PLACE'] == 4) | (df_merge['PLACE'] == 5) | (df_merge['PLACE'] == 1) | (df_merge['PLACE'] == 2)] )\n"
     ]
    },
    {
     "data": {
      "text/plain": [
       "(49588, 33722, 83310)"
      ]
     },
     "execution_count": 8,
     "metadata": {},
     "output_type": "execute_result"
    }
   ],
   "source": [
    "df_merge_PLACE= df[(df_merge['PLACE'] == 1) | (df_merge['PLACE'] == 2)] \n",
    "df_merge_PLACE_D= df[(df_merge['PLACE'] == 4) | (df_merge['PLACE'] == 5)] \n",
    "df_merge_PLACE_ALL= (df[(df_merge['PLACE'] == 4) | (df_merge['PLACE'] == 5) | (df_merge['PLACE'] == 1) | (df_merge['PLACE'] == 2)] )\n",
    "len(df_merge_PLACE), len(df_merge_PLACE_D), len(df_merge_PLACE_ALL)"
   ]
  },
  {
   "cell_type": "code",
   "execution_count": 9,
   "id": "9f66e559",
   "metadata": {},
   "outputs": [
    {
     "data": {
      "text/plain": [
       "(47825, 34781, 82606)"
      ]
     },
     "execution_count": 9,
     "metadata": {},
     "output_type": "execute_result"
    }
   ],
   "source": [
    "len(df_PLACE), len(df_PLACE_D), len(df_PLACE_ALL)"
   ]
  },
  {
   "cell_type": "code",
   "execution_count": 10,
   "id": "f0d5128a",
   "metadata": {
    "scrolled": true
   },
   "outputs": [
    {
     "name": "stderr",
     "output_type": "stream",
     "text": [
      "<ipython-input-10-fb15f3595794>:1: SettingWithCopyWarning: \n",
      "A value is trying to be set on a copy of a slice from a DataFrame.\n",
      "Try using .loc[row_indexer,col_indexer] = value instead\n",
      "\n",
      "See the caveats in the documentation: https://pandas.pydata.org/pandas-docs/stable/user_guide/indexing.html#returning-a-view-versus-a-copy\n",
      "  df_merge_PLACE_ALL['BURDEN'] = np.where(((df_merge_PLACE_ALL['PLACE'] == 1) | (df_merge_PLACE_ALL['PLACE'] == 2)), 'Burden', 'Not Burden')\n"
     ]
    },
    {
     "data": {
      "text/html": [
       "<div>\n",
       "<style scoped>\n",
       "    .dataframe tbody tr th:only-of-type {\n",
       "        vertical-align: middle;\n",
       "    }\n",
       "\n",
       "    .dataframe tbody tr th {\n",
       "        vertical-align: top;\n",
       "    }\n",
       "\n",
       "    .dataframe thead th {\n",
       "        text-align: right;\n",
       "    }\n",
       "</style>\n",
       "<table border=\"1\" class=\"dataframe\">\n",
       "  <thead>\n",
       "    <tr style=\"text-align: right;\">\n",
       "      <th></th>\n",
       "      <th>HOUSEID</th>\n",
       "      <th>TRAVDAY</th>\n",
       "      <th>SAMPSTRAT</th>\n",
       "      <th>HOMEOWN</th>\n",
       "      <th>HHSIZE</th>\n",
       "      <th>HHVEHCNT</th>\n",
       "      <th>HHFAMINC</th>\n",
       "      <th>PC</th>\n",
       "      <th>SPHONE</th>\n",
       "      <th>TAB</th>\n",
       "      <th>...</th>\n",
       "      <th>WTHHFIN</th>\n",
       "      <th>HBHUR</th>\n",
       "      <th>HTHTNRNT</th>\n",
       "      <th>HTPPOPDN</th>\n",
       "      <th>HTRESDN</th>\n",
       "      <th>HTEEMPDN</th>\n",
       "      <th>HBHTNRNT</th>\n",
       "      <th>HBPPOPDN</th>\n",
       "      <th>HBRESDN</th>\n",
       "      <th>BURDEN</th>\n",
       "    </tr>\n",
       "  </thead>\n",
       "  <tbody>\n",
       "    <tr>\n",
       "      <th>0</th>\n",
       "      <td>30000007</td>\n",
       "      <td>2</td>\n",
       "      <td>3</td>\n",
       "      <td>1</td>\n",
       "      <td>3</td>\n",
       "      <td>5</td>\n",
       "      <td>7</td>\n",
       "      <td>2</td>\n",
       "      <td>1</td>\n",
       "      <td>2</td>\n",
       "      <td>...</td>\n",
       "      <td>187.314320</td>\n",
       "      <td>T</td>\n",
       "      <td>50</td>\n",
       "      <td>1500</td>\n",
       "      <td>750</td>\n",
       "      <td>750</td>\n",
       "      <td>20</td>\n",
       "      <td>750</td>\n",
       "      <td>300</td>\n",
       "      <td>Burden</td>\n",
       "    </tr>\n",
       "    <tr>\n",
       "      <th>1</th>\n",
       "      <td>30000008</td>\n",
       "      <td>5</td>\n",
       "      <td>2</td>\n",
       "      <td>1</td>\n",
       "      <td>2</td>\n",
       "      <td>4</td>\n",
       "      <td>8</td>\n",
       "      <td>1</td>\n",
       "      <td>1</td>\n",
       "      <td>2</td>\n",
       "      <td>...</td>\n",
       "      <td>69.513032</td>\n",
       "      <td>R</td>\n",
       "      <td>5</td>\n",
       "      <td>300</td>\n",
       "      <td>300</td>\n",
       "      <td>150</td>\n",
       "      <td>5</td>\n",
       "      <td>300</td>\n",
       "      <td>300</td>\n",
       "      <td>Burden</td>\n",
       "    </tr>\n",
       "    <tr>\n",
       "      <th>2</th>\n",
       "      <td>30000012</td>\n",
       "      <td>5</td>\n",
       "      <td>3</td>\n",
       "      <td>1</td>\n",
       "      <td>1</td>\n",
       "      <td>2</td>\n",
       "      <td>10</td>\n",
       "      <td>1</td>\n",
       "      <td>1</td>\n",
       "      <td>3</td>\n",
       "      <td>...</td>\n",
       "      <td>79.419586</td>\n",
       "      <td>C</td>\n",
       "      <td>80</td>\n",
       "      <td>17000</td>\n",
       "      <td>17000</td>\n",
       "      <td>5000</td>\n",
       "      <td>60</td>\n",
       "      <td>17000</td>\n",
       "      <td>7000</td>\n",
       "      <td>Burden</td>\n",
       "    </tr>\n",
       "    <tr>\n",
       "      <th>3</th>\n",
       "      <td>30000019</td>\n",
       "      <td>5</td>\n",
       "      <td>3</td>\n",
       "      <td>1</td>\n",
       "      <td>2</td>\n",
       "      <td>2</td>\n",
       "      <td>3</td>\n",
       "      <td>1</td>\n",
       "      <td>5</td>\n",
       "      <td>5</td>\n",
       "      <td>...</td>\n",
       "      <td>279.143588</td>\n",
       "      <td>S</td>\n",
       "      <td>40</td>\n",
       "      <td>300</td>\n",
       "      <td>300</td>\n",
       "      <td>150</td>\n",
       "      <td>50</td>\n",
       "      <td>750</td>\n",
       "      <td>300</td>\n",
       "      <td>Not Burden</td>\n",
       "    </tr>\n",
       "    <tr>\n",
       "      <th>4</th>\n",
       "      <td>30000029</td>\n",
       "      <td>3</td>\n",
       "      <td>3</td>\n",
       "      <td>1</td>\n",
       "      <td>2</td>\n",
       "      <td>2</td>\n",
       "      <td>5</td>\n",
       "      <td>2</td>\n",
       "      <td>5</td>\n",
       "      <td>1</td>\n",
       "      <td>...</td>\n",
       "      <td>103.240304</td>\n",
       "      <td>S</td>\n",
       "      <td>40</td>\n",
       "      <td>1500</td>\n",
       "      <td>750</td>\n",
       "      <td>750</td>\n",
       "      <td>40</td>\n",
       "      <td>1500</td>\n",
       "      <td>750</td>\n",
       "      <td>Burden</td>\n",
       "    </tr>\n",
       "  </tbody>\n",
       "</table>\n",
       "<p>5 rows × 59 columns</p>\n",
       "</div>"
      ],
      "text/plain": [
       "    HOUSEID  TRAVDAY  SAMPSTRAT  HOMEOWN  HHSIZE  HHVEHCNT  HHFAMINC  PC  \\\n",
       "0  30000007        2          3        1       3         5         7   2   \n",
       "1  30000008        5          2        1       2         4         8   1   \n",
       "2  30000012        5          3        1       1         2        10   1   \n",
       "3  30000019        5          3        1       2         2         3   1   \n",
       "4  30000029        3          3        1       2         2         5   2   \n",
       "\n",
       "   SPHONE  TAB  ...     WTHHFIN  HBHUR  HTHTNRNT  HTPPOPDN  HTRESDN  HTEEMPDN  \\\n",
       "0       1    2  ...  187.314320      T        50      1500      750       750   \n",
       "1       1    2  ...   69.513032      R         5       300      300       150   \n",
       "2       1    3  ...   79.419586      C        80     17000    17000      5000   \n",
       "3       5    5  ...  279.143588      S        40       300      300       150   \n",
       "4       5    1  ...  103.240304      S        40      1500      750       750   \n",
       "\n",
       "   HBHTNRNT  HBPPOPDN  HBRESDN      BURDEN  \n",
       "0        20       750      300      Burden  \n",
       "1         5       300      300      Burden  \n",
       "2        60     17000     7000      Burden  \n",
       "3        50       750      300  Not Burden  \n",
       "4        40      1500      750      Burden  \n",
       "\n",
       "[5 rows x 59 columns]"
      ]
     },
     "execution_count": 10,
     "metadata": {},
     "output_type": "execute_result"
    }
   ],
   "source": [
    "df_merge_PLACE_ALL['BURDEN'] = np.where(((df_merge_PLACE_ALL['PLACE'] == 1) | (df_merge_PLACE_ALL['PLACE'] == 2)), 'Burden', 'Not Burden')\n",
    "df_merge_PLACE_ALL.head()"
   ]
  },
  {
   "cell_type": "markdown",
   "id": "8af15a4f",
   "metadata": {},
   "source": []
  },
  {
   "cell_type": "code",
   "execution_count": 7,
   "id": "655695fc",
   "metadata": {},
   "outputs": [
    {
     "name": "stderr",
     "output_type": "stream",
     "text": [
      "<ipython-input-7-ddd41bbd4959>:1: SettingWithCopyWarning: \n",
      "A value is trying to be set on a copy of a slice from a DataFrame.\n",
      "Try using .loc[row_indexer,col_indexer] = value instead\n",
      "\n",
      "See the caveats in the documentation: https://pandas.pydata.org/pandas-docs/stable/user_guide/indexing.html#returning-a-view-versus-a-copy\n",
      "  df_PLACE_ALL['BURDEN'] = np.where(((df_PLACE_ALL['PLACE'] == 1) | (df_PLACE_ALL['PLACE'] == 2)), 'Burden', 'Not Burden')\n"
     ]
    },
    {
     "data": {
      "text/html": [
       "<div>\n",
       "<style scoped>\n",
       "    .dataframe tbody tr th:only-of-type {\n",
       "        vertical-align: middle;\n",
       "    }\n",
       "\n",
       "    .dataframe tbody tr th {\n",
       "        vertical-align: top;\n",
       "    }\n",
       "\n",
       "    .dataframe thead th {\n",
       "        text-align: right;\n",
       "    }\n",
       "</style>\n",
       "<table border=\"1\" class=\"dataframe\">\n",
       "  <thead>\n",
       "    <tr style=\"text-align: right;\">\n",
       "      <th></th>\n",
       "      <th>HOUSEID</th>\n",
       "      <th>TRAVDAY</th>\n",
       "      <th>SAMPSTRAT</th>\n",
       "      <th>HOMEOWN</th>\n",
       "      <th>HHSIZE</th>\n",
       "      <th>HHVEHCNT</th>\n",
       "      <th>HHFAMINC</th>\n",
       "      <th>PC</th>\n",
       "      <th>SPHONE</th>\n",
       "      <th>TAB</th>\n",
       "      <th>...</th>\n",
       "      <th>WTHHFIN</th>\n",
       "      <th>HBHUR</th>\n",
       "      <th>HTHTNRNT</th>\n",
       "      <th>HTPPOPDN</th>\n",
       "      <th>HTRESDN</th>\n",
       "      <th>HTEEMPDN</th>\n",
       "      <th>HBHTNRNT</th>\n",
       "      <th>HBPPOPDN</th>\n",
       "      <th>HBRESDN</th>\n",
       "      <th>BURDEN</th>\n",
       "    </tr>\n",
       "  </thead>\n",
       "  <tbody>\n",
       "    <tr>\n",
       "      <th>0</th>\n",
       "      <td>30000007</td>\n",
       "      <td>2</td>\n",
       "      <td>3</td>\n",
       "      <td>1</td>\n",
       "      <td>3</td>\n",
       "      <td>5</td>\n",
       "      <td>7</td>\n",
       "      <td>2</td>\n",
       "      <td>1</td>\n",
       "      <td>2</td>\n",
       "      <td>...</td>\n",
       "      <td>187.314320</td>\n",
       "      <td>T</td>\n",
       "      <td>50</td>\n",
       "      <td>1500</td>\n",
       "      <td>750</td>\n",
       "      <td>750</td>\n",
       "      <td>20</td>\n",
       "      <td>750</td>\n",
       "      <td>300</td>\n",
       "      <td>Burden</td>\n",
       "    </tr>\n",
       "    <tr>\n",
       "      <th>1</th>\n",
       "      <td>30000008</td>\n",
       "      <td>5</td>\n",
       "      <td>2</td>\n",
       "      <td>1</td>\n",
       "      <td>2</td>\n",
       "      <td>4</td>\n",
       "      <td>8</td>\n",
       "      <td>1</td>\n",
       "      <td>1</td>\n",
       "      <td>2</td>\n",
       "      <td>...</td>\n",
       "      <td>69.513032</td>\n",
       "      <td>R</td>\n",
       "      <td>5</td>\n",
       "      <td>300</td>\n",
       "      <td>300</td>\n",
       "      <td>150</td>\n",
       "      <td>5</td>\n",
       "      <td>300</td>\n",
       "      <td>300</td>\n",
       "      <td>Burden</td>\n",
       "    </tr>\n",
       "    <tr>\n",
       "      <th>2</th>\n",
       "      <td>30000012</td>\n",
       "      <td>5</td>\n",
       "      <td>3</td>\n",
       "      <td>1</td>\n",
       "      <td>1</td>\n",
       "      <td>2</td>\n",
       "      <td>10</td>\n",
       "      <td>1</td>\n",
       "      <td>1</td>\n",
       "      <td>3</td>\n",
       "      <td>...</td>\n",
       "      <td>79.419586</td>\n",
       "      <td>C</td>\n",
       "      <td>80</td>\n",
       "      <td>17000</td>\n",
       "      <td>17000</td>\n",
       "      <td>5000</td>\n",
       "      <td>60</td>\n",
       "      <td>17000</td>\n",
       "      <td>7000</td>\n",
       "      <td>Burden</td>\n",
       "    </tr>\n",
       "    <tr>\n",
       "      <th>4</th>\n",
       "      <td>30000029</td>\n",
       "      <td>3</td>\n",
       "      <td>3</td>\n",
       "      <td>1</td>\n",
       "      <td>2</td>\n",
       "      <td>2</td>\n",
       "      <td>5</td>\n",
       "      <td>2</td>\n",
       "      <td>5</td>\n",
       "      <td>1</td>\n",
       "      <td>...</td>\n",
       "      <td>103.240304</td>\n",
       "      <td>S</td>\n",
       "      <td>40</td>\n",
       "      <td>1500</td>\n",
       "      <td>750</td>\n",
       "      <td>750</td>\n",
       "      <td>40</td>\n",
       "      <td>1500</td>\n",
       "      <td>750</td>\n",
       "      <td>Burden</td>\n",
       "    </tr>\n",
       "    <tr>\n",
       "      <th>6</th>\n",
       "      <td>30000041</td>\n",
       "      <td>4</td>\n",
       "      <td>3</td>\n",
       "      <td>1</td>\n",
       "      <td>2</td>\n",
       "      <td>2</td>\n",
       "      <td>11</td>\n",
       "      <td>1</td>\n",
       "      <td>1</td>\n",
       "      <td>1</td>\n",
       "      <td>...</td>\n",
       "      <td>788.614240</td>\n",
       "      <td>T</td>\n",
       "      <td>40</td>\n",
       "      <td>300</td>\n",
       "      <td>50</td>\n",
       "      <td>25</td>\n",
       "      <td>40</td>\n",
       "      <td>300</td>\n",
       "      <td>300</td>\n",
       "      <td>Not Burden</td>\n",
       "    </tr>\n",
       "  </tbody>\n",
       "</table>\n",
       "<p>5 rows × 59 columns</p>\n",
       "</div>"
      ],
      "text/plain": [
       "    HOUSEID  TRAVDAY  SAMPSTRAT  HOMEOWN  HHSIZE  HHVEHCNT  HHFAMINC  PC  \\\n",
       "0  30000007        2          3        1       3         5         7   2   \n",
       "1  30000008        5          2        1       2         4         8   1   \n",
       "2  30000012        5          3        1       1         2        10   1   \n",
       "4  30000029        3          3        1       2         2         5   2   \n",
       "6  30000041        4          3        1       2         2        11   1   \n",
       "\n",
       "   SPHONE  TAB  ...     WTHHFIN  HBHUR  HTHTNRNT  HTPPOPDN  HTRESDN  HTEEMPDN  \\\n",
       "0       1    2  ...  187.314320      T        50      1500      750       750   \n",
       "1       1    2  ...   69.513032      R         5       300      300       150   \n",
       "2       1    3  ...   79.419586      C        80     17000    17000      5000   \n",
       "4       5    1  ...  103.240304      S        40      1500      750       750   \n",
       "6       1    1  ...  788.614240      T        40       300       50        25   \n",
       "\n",
       "   HBHTNRNT  HBPPOPDN  HBRESDN      BURDEN  \n",
       "0        20       750      300      Burden  \n",
       "1         5       300      300      Burden  \n",
       "2        60     17000     7000      Burden  \n",
       "4        40      1500      750      Burden  \n",
       "6        40       300      300  Not Burden  \n",
       "\n",
       "[5 rows x 59 columns]"
      ]
     },
     "execution_count": 7,
     "metadata": {},
     "output_type": "execute_result"
    }
   ],
   "source": [
    "df_PLACE_ALL['BURDEN'] = np.where(((df_PLACE_ALL['PLACE'] == 1) | (df_PLACE_ALL['PLACE'] == 2)), 'Burden', 'Not Burden')\n",
    "df_PLACE_ALL.head()"
   ]
  },
  {
   "cell_type": "code",
   "execution_count": 5,
   "id": "4312cb73",
   "metadata": {},
   "outputs": [
    {
     "data": {
      "text/plain": [
       "(129696, 47825, 34781, 82606)"
      ]
     },
     "execution_count": 5,
     "metadata": {},
     "output_type": "execute_result"
    }
   ],
   "source": [
    "len(df), len(df_PLACE), len(df_PLACE_D), len(df_PLACE_ALL)"
   ]
  },
  {
   "cell_type": "code",
   "execution_count": 8,
   "id": "043f1c36",
   "metadata": {},
   "outputs": [
    {
     "data": {
      "text/plain": [
       "<AxesSubplot:xlabel='HHSIZE'>"
      ]
     },
     "execution_count": 8,
     "metadata": {},
     "output_type": "execute_result"
    },
    {
     "data": {
      "image/png": "[encoded data removed]",
      "text/plain": [
       "<Figure size 432x288 with 1 Axes>"
      ]
     },
     "metadata": {
      "needs_background": "light"
     },
     "output_type": "display_data"
    }
   ],
   "source": [
    "df_PLACE_ALL.groupby('BURDEN').HHSIZE.value_counts(normalize=True).unstack(0).plot.bar(width = .90)"
   ]
  },
  {
   "cell_type": "code",
   "execution_count": 9,
   "id": "df94048a",
   "metadata": {},
   "outputs": [
    {
     "data": {
      "text/plain": [
       "<AxesSubplot:xlabel='WALK2SAVE'>"
      ]
     },
     "execution_count": 9,
     "metadata": {},
     "output_type": "execute_result"
    },
    {
     "data": {
      "image/png": "[encoded data removed]",
      "text/plain": [
       "<Figure size 432x288 with 1 Axes>"
      ]
     },
     "metadata": {
      "needs_background": "light"
     },
     "output_type": "display_data"
    }
   ],
   "source": [
    "df_PLACE_ALL.groupby('BURDEN').WALK2SAVE.value_counts(normalize=True).unstack(0).plot.bar(width = .90)"
   ]
  },
  {
   "cell_type": "code",
   "execution_count": null,
   "id": "3d6eb317",
   "metadata": {},
   "outputs": [],
   "source": [
    "df_merge_PLACE_ALL.groupby('BURDEN').HHSIZE.value_counts(normalize=True).unstack(0).plot.bar(width = .90)"
   ]
  },
  {
   "cell_type": "code",
   "execution_count": null,
   "id": "2cd32cf8",
   "metadata": {},
   "outputs": [],
   "source": []
  },
  {
   "cell_type": "code",
   "execution_count": 10,
   "id": "df68a028",
   "metadata": {},
   "outputs": [
    {
     "data": {
      "text/plain": [
       "<AxesSubplot:xlabel='WEBUSE17'>"
      ]
     },
     "execution_count": 10,
     "metadata": {},
     "output_type": "execute_result"
    },
    {
     "data": {
      "image/png": "[encoded data removed]",
      "text/plain": [
       "<Figure size 432x288 with 1 Axes>"
      ]
     },
     "metadata": {
      "needs_background": "light"
     },
     "output_type": "display_data"
    }
   ],
   "source": [
    "df_PLACE_ALL.groupby('BURDEN').WEBUSE17.value_counts(normalize=True).unstack(0).plot.bar(width = .90)"
   ]
  },
  {
   "cell_type": "code",
   "execution_count": 12,
   "id": "d598d977",
   "metadata": {},
   "outputs": [
    {
     "data": {
      "text/plain": [
       "<AxesSubplot:xlabel='BUS'>"
      ]
     },
     "execution_count": 12,
     "metadata": {},
     "output_type": "execute_result"
    },
    {
     "data": {
      "image/png": "[encoded data removed]",
      "text/plain": [
       "<Figure size 432x288 with 1 Axes>"
      ]
     },
     "metadata": {
      "needs_background": "light"
     },
     "output_type": "display_data"
    }
   ],
   "source": [
    "df_PLACE_ALL.groupby('BURDEN').BUS.value_counts(normalize=True).unstack(0).plot.bar(width = .90)"
   ]
  },
  {
   "cell_type": "code",
   "execution_count": 11,
   "id": "31f024a9",
   "metadata": {
    "scrolled": true
   },
   "outputs": [
    {
     "data": {
      "text/plain": [
       "<AxesSubplot:xlabel='BIKE2SAVE'>"
      ]
     },
     "execution_count": 11,
     "metadata": {},
     "output_type": "execute_result"
    },
    {
     "data": {
      "image/png": "[encoded data removed]",
      "text/plain": [
       "<Figure size 432x288 with 1 Axes>"
      ]
     },
     "metadata": {
      "needs_background": "light"
     },
     "output_type": "display_data"
    }
   ],
   "source": [
    "df_PLACE_ALL.groupby('BURDEN').BIKE2SAVE.value_counts(normalize=True).unstack(0).plot.bar(width = .90)"
   ]
  },
  {
   "cell_type": "markdown",
   "id": "25243178",
   "metadata": {},
   "source": [
    "Markdown\n",
    "\n",
    "### here -9 is not ascertained, 12 agree, 45 disagree, 3 neither agree/disagree\n",
    "### we can see that those who don't think that travel is a burden, also don't think this bicycle can be used to releive them from this burden\n",
    "### on the contrary, we can see that those who think that travel is a burden, also think this bicycle can be used to releive them from this burden. \n",
    "### Moreover, Burden people are not opinionated about this mode of travel, they are the population with most ambiguity and we can see that Not BURDEN people are more opinionated\n",
    "### the accessibility question not answered\n",
    "### selling  bikes would be easier to those who are financially constrained for travel"
   ]
  },
  {
   "cell_type": "code",
   "execution_count": 17,
   "id": "71c7b3b6",
   "metadata": {},
   "outputs": [
    {
     "data": {
      "text/plain": [
       "<AxesSubplot:xlabel='HH_RACE'>"
      ]
     },
     "execution_count": 17,
     "metadata": {},
     "output_type": "execute_result"
    },
    {
     "data": {
      "image/png": "[encoded data removed]",
      "text/plain": [
       "<Figure size 432x288 with 1 Axes>"
      ]
     },
     "metadata": {
      "needs_background": "light"
     },
     "output_type": "display_data"
    }
   ],
   "source": [
    "df_PLACE_ALL.groupby('BURDEN').HH_RACE.value_counts(normalize=True).unstack(0).plot.bar(width = .90)"
   ]
  },
  {
   "cell_type": "code",
   "execution_count": 18,
   "id": "874a865e",
   "metadata": {},
   "outputs": [
    {
     "data": {
      "text/plain": [
       "<AxesSubplot:xlabel='TAXI'>"
      ]
     },
     "execution_count": 18,
     "metadata": {},
     "output_type": "execute_result"
    },
    {
     "data": {
      "image/png": "[encoded data removed]",
      "text/plain": [
       "<Figure size 432x288 with 1 Axes>"
      ]
     },
     "metadata": {
      "needs_background": "light"
     },
     "output_type": "display_data"
    }
   ],
   "source": [
    "df_PLACE_ALL.groupby('BURDEN').TAXI.value_counts(normalize=True).unstack(0).plot.bar(width = .90)"
   ]
  },
  {
   "cell_type": "code",
   "execution_count": 19,
   "id": "3e32997c",
   "metadata": {},
   "outputs": [
    {
     "data": {
      "text/plain": [
       "<AxesSubplot:xlabel='TRAIN'>"
      ]
     },
     "execution_count": 19,
     "metadata": {},
     "output_type": "execute_result"
    },
    {
     "data": {
      "image/png": "[encoded data removed]",
      "text/plain": [
       "<Figure size 432x288 with 1 Axes>"
      ]
     },
     "metadata": {
      "needs_background": "light"
     },
     "output_type": "display_data"
    }
   ],
   "source": [
    "df_PLACE_ALL.groupby('BURDEN').TRAIN.value_counts(normalize=True).unstack(0).plot.bar(width = .90)"
   ]
  },
  {
   "cell_type": "code",
   "execution_count": 21,
   "id": "401295d3",
   "metadata": {},
   "outputs": [
    {
     "data": {
      "text/plain": [
       "<AxesSubplot:xlabel='YOUNGCHILD'>"
      ]
     },
     "execution_count": 21,
     "metadata": {},
     "output_type": "execute_result"
    },
    {
     "data": {
      "image/png": "[encoded data removed]",
      "text/plain": [
       "<Figure size 432x288 with 1 Axes>"
      ]
     },
     "metadata": {
      "needs_background": "light"
     },
     "output_type": "display_data"
    }
   ],
   "source": [
    "df_PLACE_ALL.groupby('BURDEN').YOUNGCHILD.value_counts(normalize=True).unstack(0).plot.bar(width = .90)"
   ]
  },
  {
   "cell_type": "code",
   "execution_count": 22,
   "id": "d497125b",
   "metadata": {},
   "outputs": [
    {
     "data": {
      "text/plain": [
       "<AxesSubplot:xlabel='NUMADLT'>"
      ]
     },
     "execution_count": 22,
     "metadata": {},
     "output_type": "execute_result"
    },
    {
     "data": {
      "image/png": "[encoded data removed]",
      "text/plain": [
       "<Figure size 432x288 with 1 Axes>"
      ]
     },
     "metadata": {
      "needs_background": "light"
     },
     "output_type": "display_data"
    }
   ],
   "source": [
    "df_PLACE_ALL.groupby('BURDEN').NUMADLT.value_counts(normalize=True).unstack(0).plot.bar(width = .90)"
   ]
  },
  {
   "cell_type": "code",
   "execution_count": 32,
   "id": "ad92c372",
   "metadata": {},
   "outputs": [
    {
     "data": {
      "text/plain": [
       "<AxesSubplot:xlabel='HOMEOWN'>"
      ]
     },
     "execution_count": 32,
     "metadata": {},
     "output_type": "execute_result"
    },
    {
     "data": {
      "image/png": "[encoded data removed]",
      "text/plain": [
       "<Figure size 585.25x413.875 with 1 Axes>"
      ]
     },
     "metadata": {
      "needs_background": "light"
     },
     "output_type": "display_data"
    }
   ],
   "source": [
    "df_PLACE_ALL.groupby('BURDEN').HOMEOWN.value_counts(normalize=True).unstack(0).plot.bar(width = .90)"
   ]
  },
  {
   "cell_type": "code",
   "execution_count": 35,
   "id": "9c486b11",
   "metadata": {},
   "outputs": [
    {
     "data": {
      "text/plain": [
       "<AxesSubplot:xlabel='HHSTFIPS'>"
      ]
     },
     "execution_count": 35,
     "metadata": {},
     "output_type": "execute_result"
    },
    {
     "data": {
      "image/png": "[encoded data removed]",
      "text/plain": [
       "<Figure size 2341x1655.5 with 1 Axes>"
      ]
     },
     "metadata": {
      "needs_background": "light"
     },
     "output_type": "display_data"
    }
   ],
   "source": [
    "plt.rc('figure', figsize=[46.82 * .5**(.5 * 2), 33.11 * .5**(.5 * 2)], dpi=100)\n",
    "df_PLACE_ALL.groupby('BURDEN').HHSTFIPS.value_counts(normalize=True).unstack(0).plot.bar(width = .70)"
   ]
  },
  {
   "cell_type": "markdown",
   "id": "f1090cf1",
   "metadata": {},
   "source": [
    "BIKE_DFR\tReason for Not Biking More: Infrastructure"
   ]
  },
  {
   "cell_type": "code",
   "execution_count": 30,
   "id": "a651af0a",
   "metadata": {},
   "outputs": [],
   "source": [
    "plt.rc('figure', figsize=[46.82 * .5**(.5 * 6), 33.11 * .5**(.5 * 6)], dpi=100)"
   ]
  },
  {
   "cell_type": "markdown",
   "id": "87973cc9",
   "metadata": {},
   "source": [
    "## codebook link \n",
    "https://nhts.ornl.gov/tables09/CodebookBrowser.aspx"
   ]
  },
  {
   "cell_type": "markdown",
   "id": "9533c934",
   "metadata": {},
   "source": [
    "## Travel is a Financial Burden is it because of poverty or poor access to daily needs\n",
    "### if poverty, then the distribution among middle class will be normal\n",
    "### if inaccessibility is the cause, then middle class will consider it as a burden\n",
    "#### WEBUSE17"
   ]
  },
  {
   "cell_type": "markdown",
   "id": "0f74eb39",
   "metadata": {},
   "source": [
    "## var name PLACE\n",
    "https://nhts.ornl.gov/tables09/CodebookPage.aspx?id=1287\n",
    "#Travel is a Financial Burden"
   ]
  },
  {
   "cell_type": "code",
   "execution_count": 7,
   "id": "5594ba62",
   "metadata": {},
   "outputs": [],
   "source": [
    "df_PLACE= df[(df['PLACE'] == 1) | (df['PLACE'] == 2)] "
   ]
  },
  {
   "cell_type": "code",
   "execution_count": 8,
   "id": "b27ecf24",
   "metadata": {},
   "outputs": [],
   "source": [
    "df_PLACE_D= df[(df['PLACE'] == 4) | (df['PLACE'] == 5)] "
   ]
  },
  {
   "cell_type": "code",
   "execution_count": 9,
   "id": "dc533631",
   "metadata": {},
   "outputs": [],
   "source": [
    "df_PLACE_ALL= (df[(df['PLACE'] == 4) | (df['PLACE'] == 5) | (df['PLACE'] == 1) | (df['PLACE'] == 2)] )"
   ]
  },
  {
   "cell_type": "code",
   "execution_count": 10,
   "id": "1c77b0f6",
   "metadata": {},
   "outputs": [
    {
     "name": "stderr",
     "output_type": "stream",
     "text": [
      "<ipython-input-10-d81ef5bf657d>:2: SettingWithCopyWarning: \n",
      "A value is trying to be set on a copy of a slice from a DataFrame.\n",
      "Try using .loc[row_indexer,col_indexer] = value instead\n",
      "\n",
      "See the caveats in the documentation: https://pandas.pydata.org/pandas-docs/stable/user_guide/indexing.html#returning-a-view-versus-a-copy\n",
      "  df_PLACE_ALL['BURDEN'] = np.where(((df_PLACE_ALL['PLACE'] == 1) | (df_PLACE_ALL['PLACE'] == 2)), 'Burden', 'Not Burden')\n"
     ]
    },
    {
     "data": {
      "text/html": [
       "<div>\n",
       "<style scoped>\n",
       "    .dataframe tbody tr th:only-of-type {\n",
       "        vertical-align: middle;\n",
       "    }\n",
       "\n",
       "    .dataframe tbody tr th {\n",
       "        vertical-align: top;\n",
       "    }\n",
       "\n",
       "    .dataframe thead th {\n",
       "        text-align: right;\n",
       "    }\n",
       "</style>\n",
       "<table border=\"1\" class=\"dataframe\">\n",
       "  <thead>\n",
       "    <tr style=\"text-align: right;\">\n",
       "      <th></th>\n",
       "      <th>HOUSEID</th>\n",
       "      <th>TRAVDAY</th>\n",
       "      <th>SAMPSTRAT</th>\n",
       "      <th>HOMEOWN</th>\n",
       "      <th>HHSIZE</th>\n",
       "      <th>HHVEHCNT</th>\n",
       "      <th>HHFAMINC</th>\n",
       "      <th>PC</th>\n",
       "      <th>SPHONE</th>\n",
       "      <th>TAB</th>\n",
       "      <th>...</th>\n",
       "      <th>WTHHFIN</th>\n",
       "      <th>HBHUR</th>\n",
       "      <th>HTHTNRNT</th>\n",
       "      <th>HTPPOPDN</th>\n",
       "      <th>HTRESDN</th>\n",
       "      <th>HTEEMPDN</th>\n",
       "      <th>HBHTNRNT</th>\n",
       "      <th>HBPPOPDN</th>\n",
       "      <th>HBRESDN</th>\n",
       "      <th>BURDEN</th>\n",
       "    </tr>\n",
       "  </thead>\n",
       "  <tbody>\n",
       "    <tr>\n",
       "      <th>0</th>\n",
       "      <td>30000007</td>\n",
       "      <td>2</td>\n",
       "      <td>3</td>\n",
       "      <td>1</td>\n",
       "      <td>3</td>\n",
       "      <td>5</td>\n",
       "      <td>7</td>\n",
       "      <td>2</td>\n",
       "      <td>1</td>\n",
       "      <td>2</td>\n",
       "      <td>...</td>\n",
       "      <td>187.314320</td>\n",
       "      <td>T</td>\n",
       "      <td>50</td>\n",
       "      <td>1500</td>\n",
       "      <td>750</td>\n",
       "      <td>750</td>\n",
       "      <td>20</td>\n",
       "      <td>750</td>\n",
       "      <td>300</td>\n",
       "      <td>Burden</td>\n",
       "    </tr>\n",
       "    <tr>\n",
       "      <th>1</th>\n",
       "      <td>30000008</td>\n",
       "      <td>5</td>\n",
       "      <td>2</td>\n",
       "      <td>1</td>\n",
       "      <td>2</td>\n",
       "      <td>4</td>\n",
       "      <td>8</td>\n",
       "      <td>1</td>\n",
       "      <td>1</td>\n",
       "      <td>2</td>\n",
       "      <td>...</td>\n",
       "      <td>69.513032</td>\n",
       "      <td>R</td>\n",
       "      <td>5</td>\n",
       "      <td>300</td>\n",
       "      <td>300</td>\n",
       "      <td>150</td>\n",
       "      <td>5</td>\n",
       "      <td>300</td>\n",
       "      <td>300</td>\n",
       "      <td>Burden</td>\n",
       "    </tr>\n",
       "    <tr>\n",
       "      <th>2</th>\n",
       "      <td>30000012</td>\n",
       "      <td>5</td>\n",
       "      <td>3</td>\n",
       "      <td>1</td>\n",
       "      <td>1</td>\n",
       "      <td>2</td>\n",
       "      <td>10</td>\n",
       "      <td>1</td>\n",
       "      <td>1</td>\n",
       "      <td>3</td>\n",
       "      <td>...</td>\n",
       "      <td>79.419586</td>\n",
       "      <td>C</td>\n",
       "      <td>80</td>\n",
       "      <td>17000</td>\n",
       "      <td>17000</td>\n",
       "      <td>5000</td>\n",
       "      <td>60</td>\n",
       "      <td>17000</td>\n",
       "      <td>7000</td>\n",
       "      <td>Burden</td>\n",
       "    </tr>\n",
       "    <tr>\n",
       "      <th>4</th>\n",
       "      <td>30000029</td>\n",
       "      <td>3</td>\n",
       "      <td>3</td>\n",
       "      <td>1</td>\n",
       "      <td>2</td>\n",
       "      <td>2</td>\n",
       "      <td>5</td>\n",
       "      <td>2</td>\n",
       "      <td>5</td>\n",
       "      <td>1</td>\n",
       "      <td>...</td>\n",
       "      <td>103.240304</td>\n",
       "      <td>S</td>\n",
       "      <td>40</td>\n",
       "      <td>1500</td>\n",
       "      <td>750</td>\n",
       "      <td>750</td>\n",
       "      <td>40</td>\n",
       "      <td>1500</td>\n",
       "      <td>750</td>\n",
       "      <td>Burden</td>\n",
       "    </tr>\n",
       "    <tr>\n",
       "      <th>6</th>\n",
       "      <td>30000041</td>\n",
       "      <td>4</td>\n",
       "      <td>3</td>\n",
       "      <td>1</td>\n",
       "      <td>2</td>\n",
       "      <td>2</td>\n",
       "      <td>11</td>\n",
       "      <td>1</td>\n",
       "      <td>1</td>\n",
       "      <td>1</td>\n",
       "      <td>...</td>\n",
       "      <td>788.614240</td>\n",
       "      <td>T</td>\n",
       "      <td>40</td>\n",
       "      <td>300</td>\n",
       "      <td>50</td>\n",
       "      <td>25</td>\n",
       "      <td>40</td>\n",
       "      <td>300</td>\n",
       "      <td>300</td>\n",
       "      <td>Not Burden</td>\n",
       "    </tr>\n",
       "  </tbody>\n",
       "</table>\n",
       "<p>5 rows × 59 columns</p>\n",
       "</div>"
      ],
      "text/plain": [
       "    HOUSEID  TRAVDAY  SAMPSTRAT  HOMEOWN  HHSIZE  HHVEHCNT  HHFAMINC  PC  \\\n",
       "0  30000007        2          3        1       3         5         7   2   \n",
       "1  30000008        5          2        1       2         4         8   1   \n",
       "2  30000012        5          3        1       1         2        10   1   \n",
       "4  30000029        3          3        1       2         2         5   2   \n",
       "6  30000041        4          3        1       2         2        11   1   \n",
       "\n",
       "   SPHONE  TAB  ...     WTHHFIN  HBHUR  HTHTNRNT  HTPPOPDN  HTRESDN  HTEEMPDN  \\\n",
       "0       1    2  ...  187.314320      T        50      1500      750       750   \n",
       "1       1    2  ...   69.513032      R         5       300      300       150   \n",
       "2       1    3  ...   79.419586      C        80     17000    17000      5000   \n",
       "4       5    1  ...  103.240304      S        40      1500      750       750   \n",
       "6       1    1  ...  788.614240      T        40       300       50        25   \n",
       "\n",
       "   HBHTNRNT  HBPPOPDN  HBRESDN      BURDEN  \n",
       "0        20       750      300      Burden  \n",
       "1         5       300      300      Burden  \n",
       "2        60     17000     7000      Burden  \n",
       "4        40      1500      750      Burden  \n",
       "6        40       300      300  Not Burden  \n",
       "\n",
       "[5 rows x 59 columns]"
      ]
     },
     "execution_count": 10,
     "metadata": {},
     "output_type": "execute_result"
    }
   ],
   "source": [
    "import numpy as np\n",
    "df_PLACE_ALL['BURDEN'] = np.where(((df_PLACE_ALL['PLACE'] == 1) | (df_PLACE_ALL['PLACE'] == 2)), 'Burden', 'Not Burden')\n",
    "df_PLACE_ALL.head()"
   ]
  },
  {
   "cell_type": "code",
   "execution_count": 11,
   "id": "fc2376e4",
   "metadata": {},
   "outputs": [
    {
     "data": {
      "text/plain": [
       "(129696, 47825, 34781, 82606)"
      ]
     },
     "execution_count": 11,
     "metadata": {},
     "output_type": "execute_result"
    }
   ],
   "source": [
    "len(df), len(df_PLACE), len(df_PLACE_D), len(df_PLACE_ALL)"
   ]
  },
  {
   "cell_type": "code",
   "execution_count": null,
   "id": "bc044ec6",
   "metadata": {},
   "outputs": [],
   "source": [
    "df_PLACE_ALL.groupby('BURDEN').HHSIZE.value_counts(normalize=True).unstack(0).plot.bar()"
   ]
  },
  {
   "cell_type": "code",
   "execution_count": null,
   "id": "431e65ca",
   "metadata": {
    "scrolled": true
   },
   "outputs": [],
   "source": [
    "df_PLACE.head(20)"
   ]
  },
  {
   "cell_type": "code",
   "execution_count": null,
   "id": "eb8911f7",
   "metadata": {},
   "outputs": [],
   "source": [
    "df_PLACE.columns.values"
   ]
  },
  {
   "cell_type": "markdown",
   "id": "6e585c5d",
   "metadata": {},
   "source": [
    "## var nameTRAVDAY\n",
    "https://nhts.ornl.gov/tables09/CodebookPage.aspx?id=1328 Travel day - day of week\n",
    "1- Sunday ~ 7- Saturday"
   ]
  },
  {
   "cell_type": "code",
   "execution_count": null,
   "id": "1f8d2529",
   "metadata": {},
   "outputs": [],
   "source": [
    "df_PLACE.TRAVDAY.value_counts()"
   ]
  },
  {
   "cell_type": "code",
   "execution_count": null,
   "id": "cb94a07e",
   "metadata": {},
   "outputs": [],
   "source": [
    "df_PLACE_D.TRAVDAY.value_counts()"
   ]
  },
  {
   "cell_type": "code",
   "execution_count": null,
   "id": "4a7208a1",
   "metadata": {},
   "outputs": [],
   "source": [
    "df.TRAVDAY.value_counts()"
   ]
  },
  {
   "cell_type": "code",
   "execution_count": null,
   "id": "afb081a0",
   "metadata": {},
   "outputs": [],
   "source": [
    "## for name, values in df.iteritems():\n",
    "   ## print('{name}: {value}'.format(name=name, value=values[:])) "
   ]
  },
  {
   "cell_type": "code",
   "execution_count": null,
   "id": "0e2cfef8",
   "metadata": {},
   "outputs": [],
   "source": [
    "df.BUS.value_counts()"
   ]
  },
  {
   "cell_type": "code",
   "execution_count": null,
   "id": "a74a115a",
   "metadata": {},
   "outputs": [],
   "source": [
    "df_PLACE.BUS.value_counts()"
   ]
  },
  {
   "cell_type": "code",
   "execution_count": null,
   "id": "49978e74",
   "metadata": {},
   "outputs": [],
   "source": [
    "df_PLACE_D.BUS.value_counts()"
   ]
  },
  {
   "cell_type": "code",
   "execution_count": null,
   "id": "281d6c37",
   "metadata": {},
   "outputs": [],
   "source": [
    "plt.scatter(df['PLACE'], df['BUS'])\n",
    "plt.show()"
   ]
  },
  {
   "cell_type": "code",
   "execution_count": null,
   "id": "2d0abafe",
   "metadata": {},
   "outputs": [],
   "source": [
    "plt.scatter(df_PLACE['PLACE'], df_PLACE['BUS'])\n",
    "plt.show()"
   ]
  },
  {
   "cell_type": "markdown",
   "id": "3652c645",
   "metadata": {},
   "source": [
    "# BIKE2SAVE \n",
    "https://nhts.ornl.gov/tables09/CodebookPage.aspx?id=1178 # Bicycle to Reduce Financial Burden of Travel "
   ]
  },
  {
   "cell_type": "code",
   "execution_count": null,
   "id": "5d3c37e4",
   "metadata": {
    "scrolled": true
   },
   "outputs": [],
   "source": [
    "df_PLACE.BIKE2SAVE.value_counts()"
   ]
  },
  {
   "cell_type": "code",
   "execution_count": null,
   "id": "e272586b",
   "metadata": {},
   "outputs": [],
   "source": [
    "df.BIKE2SAVE.value_counts()"
   ]
  },
  {
   "cell_type": "code",
   "execution_count": null,
   "id": "08eec1ae",
   "metadata": {},
   "outputs": [],
   "source": []
  }
 ],
 "metadata": {
  "kernelspec": {
   "display_name": "Python 3",
   "language": "python",
   "name": "python3"
  },
  "language_info": {
   "codemirror_mode": {
    "name": "ipython",
    "version": 3
   },
   "file_extension": ".py",
   "mimetype": "text/x-python",
   "name": "python",
   "nbconvert_exporter": "python",
   "pygments_lexer": "ipython3",
   "version": "3.8.8"
  }
 },
 "nbformat": 4,
 "nbformat_minor": 5
}
